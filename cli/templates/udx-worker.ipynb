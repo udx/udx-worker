{
    "cells": [
        {
            "cell_type": "markdown",
            "metadata": {},
            "source": [
                "# UDX Worker Interface\n",
                "\n",
                "This notebook serves as the interface for the UDX worker. It provides the necessary setup and function registrations. It also includes a basic local testing of operational tasks running a UDX worker based Docker container."
            ]
        },
        {
            "cell_type": "code",
            "execution_count": null,
            "metadata": {},
            "outputs": [],
            "source": [
                "# Import the necessary libraries\n",
                "import docker\n",
                "import os\n",
                "\n",
                "# Initialize the Docker client\n",
                "client = docker.from_env()\n",
                "\n",
                "# Your JavaScript code\n",
                "js_code = \"\"\"\n",
                "/**\n",
                " * \n",
                " * Mock service that logs a message every 5 seconds.\n",
                " * \n",
                " */\n",
                "\n",
                "function sleep(seconds) {\n",
                "    const milliseconds = seconds * 1000;\n",
                "    const start = Date.now();\n",
                "    while (true) {\n",
                "      const current = Date.now();\n",
                "      if (current - start >= milliseconds) {\n",
                "        break;\n",
                "      }\n",
                "    }\n",
                "}\n",
                "\n",
                "while (true) {\n",
                "    console.log(`[${new Date().toLocaleTimeString()}] Service is up and running!`);\n",
                "    sleep(5);\n",
                "}\n",
                "\"\"\"\n",
                "\n",
                "# Write the JavaScript code to a file\n",
                "with open('script.js', 'w') as file:\n",
                "    file.write(js_code)\n",
                "\n",
                "# Pull your Docker image\n",
                "# Replace 'your-docker-image' with the name of your Docker image\n",
                "image = client.images.pull('your-docker-image')\n",
                "\n",
                "# Run a Docker container from your image\n",
                "# In this case, the JavaScript file is in the same directory as this Python script\n",
                "container = client.containers.run('your-docker-image', command=['node', './script.js'], volumes={os.getcwd(): {'bind': '/usr/src/app', 'mode': 'rw'}}, detach=True)\n",
                "\n",
                "# Fetch the logs of the container\n",
                "logs = container.logs()\n",
                "\n",
                "# Print the logs\n",
                "print(logs)"
            ]
        }
    ],
    "metadata": {
        "kernelspec": {
            "display_name": "Python 3",
            "language": "python",
            "name": "python3"
        },
        "language_info": {
            "codemirror_mode": {
                "name": "ipython",
                "version": 3
            },
            "file_extension": ".py",
            "mimetype": "text/x-python",
            "name": "python",
            "nbconvert_exporter": "python",
            "pygments_lexer": "ipython3",
            "version": "3.6.9"
        }
    },
    "nbformat": 4,
    "nbformat_minor": 2
}