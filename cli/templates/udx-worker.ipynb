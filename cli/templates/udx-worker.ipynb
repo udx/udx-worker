{
    "cells": [
        {
            "cell_type": "markdown",
            "metadata": {},
            "source": [
                "# UDX Worker Interface\n",
                "\n",
                "This notebook serves as the interface for the UDX worker. It provides the necessary setup and function registrations. It also includes a basic local testing of operational tasks running a UDX worker based Docker container."
            ]
        },
        {
            "cell_type": "code",
            "execution_count": null,
            "metadata": {
                "vscode": {
                    "languageId": "javascript"
                }
            },
            "outputs": [],
            "source": [
                "const fs = require('fs');\n",
                "const path = require('path');\n",
                "const { Docker } = require('dockerode');\n",
                "\n",
                "// Initialize the Docker client\n",
                "const docker = new Docker();\n",
                "\n",
                "// Your JavaScript code\n",
                "const jsCode = `\n",
                "/**\n",
                " * \n",
                " * Mock service that logs a message every 5 seconds.\n",
                " * \n",
                " */\n",
                "\n",
                "function sleep(seconds) {\n",
                "    const milliseconds = seconds * 1000;\n",
                "    const start = Date.now();\n",
                "    while (true) {\n",
                "      const current = Date.now();\n",
                "      if (current - start >= milliseconds) {\n",
                "        break;\n",
                "      }\n",
                "    }\n",
                "}\n",
                "\n",
                "while (true) {\n",
                "    console.log(\\`[\\${new Date().toLocaleTimeString()}] Service is up and running!\\`);\n",
                "    sleep(5);\n",
                "}\n",
                "`;\n",
                "\n",
                "// Write the JavaScript code to a file\n",
                "const scriptPath = path.join(__dirname, 'script.js');\n",
                "fs.writeFileSync(scriptPath, jsCode);\n",
                "\n",
                "// Function to run the Docker container\n",
                "async function runContainer() {\n",
                "    try {\n",
                "        // Pull the Docker image\n",
                "        // Replace 'your-docker-image' with the name of your Docker image\n",
                "        const image = await docker.pull('your-docker-image');\n",
                "        console.log('Image pulled:', image);\n",
                "\n",
                "        // Create and start the container\n",
                "        const container = await docker.createContainer({\n",
                "            Image: 'your-docker-image',\n",
                "            Cmd: ['node', '/usr/src/app/script.js'],\n",
                "            Volumes: {\n",
                "                '/usr/src/app': {}\n",
                "            },\n",
                "            HostConfig: {\n",
                "                Binds: [`${__dirname}:/usr/src/app`]\n",
                "            }\n",
                "        });\n",
                "\n",
                "        await container.start();\n",
                "        console.log('Container started:', container.id);\n",
                "\n",
                "        // Fetch the logs of the container\n",
                "        const logs = await container.logs({\n",
                "            follow: true,\n",
                "            stdout: true,\n",
                "            stderr: true\n",
                "        });\n",
                "\n",
                "        logs.on('data', (data) => {\n",
                "            console.log(data.toString());\n",
                "        });\n",
                "\n",
                "    } catch (error) {\n",
                "        console.error('Error:', error);\n",
                "    }\n",
                "}\n",
                "\n",
                "// Run the container\n",
                "runContainer();\n"
            ]
        }
    ],
    "metadata": {
        "kernelspec": {
            "display_name": "Python 3",
            "language": "python",
            "name": "python3"
        },
        "language_info": {
            "codemirror_mode": {
                "name": "ipython",
                "version": 3
            },
            "file_extension": ".py",
            "mimetype": "text/x-python",
            "name": "python",
            "nbconvert_exporter": "python",
            "pygments_lexer": "ipython3",
            "version": "3.6.9"
        }
    },
    "nbformat": 4,
    "nbformat_minor": 2
}
